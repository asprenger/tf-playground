{
 "cells": [
  {
   "cell_type": "markdown",
   "metadata": {},
   "source": [
    "# Estimator\n",
    "\n",
    "[class tf.estimator.Estimator](https://github.com/tensorflow/tensorflow/blob/e5945c00148186808e337b4946cf0fa6460f6803/tensorflow/python/estimator/estimator.py#L78)\n",
    "\n",
    "[def train()](https://github.com/tensorflow/tensorflow/blob/e5945c00148186808e337b4946cf0fa6460f6803/tensorflow/python/estimator/estimator.py#L307)\n",
    "\n",
    "Delegates to [_train_model()](https://github.com/tensorflow/tensorflow/blob/e5945c00148186808e337b4946cf0fa6460f6803/tensorflow/python/estimator/estimator.py#L1141):\n",
    "\n",
    "    def _train_model(self, input_fn, hooks, saving_listeners):\n",
    "        if self._distribution:\n",
    "          return self._train_model_distributed(input_fn, hooks, saving_listeners)\n",
    "        else:\n",
    "          return self._train_model_default(input_fn, hooks, saving_listeners)\n",
    "          \n",
    "          \n",
    "[_train_model_default()](https://github.com/tensorflow/tensorflow/blob/e5945c00148186808e337b4946cf0fa6460f6803/tensorflow/python/estimator/estimator.py#L1147): non-distributed training, delegates to _train_with_estimator_spec()\n",
    "\n",
    "[_train_model_distributed()](https://github.com/tensorflow/tensorflow/blob/e5945c00148186808e337b4946cf0fa6460f6803/tensorflow/python/estimator/estimator.py#L1175): contains a lot of code but also delegates to _train_with_estimator_spec()\n",
    "\n",
    "**TODO** check out `self._distribution`: The distribute field contains an instance of [DistributionStrategy](https://github.com/tensorflow/tensorflow/blob/855d2a723c24ce69ee993144c16506dbef12ed69/tensorflow/python/training/distribute.py#L340).\n",
    "\n",
    "[_train_with_estimator_spec()](https://github.com/tensorflow/tensorflow/blob/e5945c00148186808e337b4946cf0fa6460f6803/tensorflow/python/estimator/estimator.py#L1370): Calls [tf.training.MonitoredTrainingSession()](https://github.com/tensorflow/tensorflow/blob/e5945c00148186808e337b4946cf0fa6460f6803/tensorflow/python/training/monitored_session.py#L288) to create a [tf.train.MonitoredSession](https://github.com/tensorflow/tensorflow/blob/e5945c00148186808e337b4946cf0fa6460f6803/tensorflow/python/training/monitored_session.py#L753) and calls `run()` on it until some termination criteria has been reached.\n",
    "\n",
    "For local training MTS.master=='' and MTS.is_chief==True\n",
    "\n",
    "Depending on the MTS.is_chief flag the [tf.train.MonitoredSession](https://github.com/tensorflow/tensorflow/blob/e5945c00148186808e337b4946cf0fa6460f6803/tensorflow/python/training/monitored_session.py#L753) is initialized with a WorkerSessionCreator or ChiefSessionCreator."
   ]
  }
 ],
 "metadata": {
  "kernelspec": {
   "display_name": "Python 3",
   "language": "python",
   "name": "python3"
  },
  "language_info": {
   "codemirror_mode": {
    "name": "ipython",
    "version": 3
   },
   "file_extension": ".py",
   "mimetype": "text/x-python",
   "name": "python",
   "nbconvert_exporter": "python",
   "pygments_lexer": "ipython3",
   "version": "3.6.4"
  }
 },
 "nbformat": 4,
 "nbformat_minor": 2
}
