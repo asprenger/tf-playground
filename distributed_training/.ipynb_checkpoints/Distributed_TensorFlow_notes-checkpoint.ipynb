{
 "cells": [
  {
   "cell_type": "markdown",
   "metadata": {},
   "source": [
    "# Links\n",
    "\n",
    "## Documentation, Blogs\n",
    "\n",
    " * [Official Distributed TensorFlow documentation](https://www.tensorflow.org/deploy/distributed)\n",
    "\n",
    " * [How to write distributed TensorFlow code — with an example on Clusterone](https://medium.com/clusterone/how-to-write-distributed-tensorflow-code-with-an-example-on-tensorport-70bf3306adcb)\n",
    "\n",
    " * [Oreilly blog post: Distributed TensorFlow](https://www.oreilly.com/ideas/distributed-tensorflow)\n",
    "\n",
    " * [Distributed Deep Learning - Part 1 - An Introduction](http://joerihermans.com/ramblings/distributed-deep-learning-part-1-an-introduction/)\n",
    "     * Introduction and description of several distributed training algorithms (e.g. how to aggregate gradient updates)\n",
    "\n",
    "## Code examples\n",
    "\n",
    " * [Official mnist example](https://github.com/tensorflow/models/blob/master/official/mnist/mnist.py)\n",
    "     * several interesting tricks\n",
    "     * non-distributed but has support for multiple GPUs \n",
    "\n",
    " * [Official cifar10 estimator example](https://github.com/tensorflow/models/tree/master/tutorials/image/cifar10_estimator)\n",
    "     * several interesting tricks\n",
    "     * non-distributed but has support for multiple GPUs \n",
    "\n",
    " * [mnist_replica.py](https://github.com/tensorflow/tensorflow/blob/master/tensorflow/tools/dist_test/python/mnist_replica.py)\n",
    "     * Distributed MNIST training and validation, with model replicas\n",
    "\n",
    " * [Multiple-GPUs-Single-Machine](https://github.com/tmulc18/Distributed-TensorFlow-Guide/tree/master/Multiple-GPUs-Single-Machine)\n",
    "     * Collection of distributed training examples\n",
    "\n",
    " * [How to close parameter server with python?](https://github.com/tensorflow/tensorflow/issues/4713)\n",
    "     * Here is some solution code liked in the issue: [https://gist.github.com/yaroslavvb/ea1b1bae0a75c4aae593df7eca72d9ca](https://gist.github.com/yaroslavvb/ea1b1bae0a75c4aae593df7eca72d9ca)\n",
    "     * And another: [https://gist.github.com/yaroslavvb/82a5b5302449530ca5ff59df520c369e](https://gist.github.com/yaroslavvb/82a5b5302449530ca5ff59df520c369e)\n",
    "     * A Stackoverflow issue: [https://stackoverflow.com/questions/39810356/shut-down-server-in-tensorflow/40186129#40186129](https://stackoverflow.com/questions/39810356/shut-down-server-in-tensorflow/40186129#40186129)"
   ]
  }
 ],
 "metadata": {
  "kernelspec": {
   "display_name": "Python 3",
   "language": "python",
   "name": "python3"
  },
  "language_info": {
   "codemirror_mode": {
    "name": "ipython",
    "version": 3
   },
   "file_extension": ".py",
   "mimetype": "text/x-python",
   "name": "python",
   "nbconvert_exporter": "python",
   "pygments_lexer": "ipython3",
   "version": "3.6.4"
  }
 },
 "nbformat": 4,
 "nbformat_minor": 2
}
