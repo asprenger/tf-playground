{
 "cells": [
  {
   "cell_type": "code",
   "execution_count": null,
   "metadata": {},
   "outputs": [],
   "source": [
    "import tensorflow as tf\n",
    "\n",
    "# extract\n",
    "files = tf.data.Dataset.list_files('/tmp/test-data')\n",
    "dataset = tf.data.TFRecordDataset(files) # add 'num_parallel_reads=10' to read files in parallel, e.g. from HDFS\n",
    "\n",
    "# transform\n",
    "dataset = dataset.shuffle(10000)\n",
    "dataset = dataset.repeat(10)\n",
    "dataset = dataset.map(lambda x: tf.parse_single_example(x, features))\n",
    "dataset = dataset.batch(batch_size)\n",
    "\n",
    "# load\n",
    "iterator = dataset.make_one_shot_iterator()\n",
    "features = iterator.get_next()\n"
   ]
  },
  {
   "cell_type": "markdown",
   "metadata": {},
   "source": [
    "Preprocessing data mostly runs on the CPU. Future direction is to run parts of preprocesing on the GPU.\n",
    "\n",
    "Look at: tf.contrib.data.prefetch_to_device() # available in TF 1.8\n",
    "\n"
   ]
  },
  {
   "cell_type": "code",
   "execution_count": null,
   "metadata": {},
   "outputs": [],
   "source": [
    "# Fused pipeline operators:\n",
    "\n",
    "dataset = dataset.apply(\n",
    "    tf.contrib.data.shuffle_and_repeat(1000, NUM_EPOCHs)))\n",
    "\n",
    "dataset = dataset.apply(\n",
    "    tf.contrib.data.map_and_batch(lambda x:..., batch_size)\n",
    "    \n",
    "# GPU prefetch of batched data\n",
    "dataset = dataset.apply(tf.contrib.data.prefetch_to_device('/gpu:0'))"
   ]
  },
  {
   "cell_type": "markdown",
   "metadata": {},
   "source": [
    "Look at tf.SparseTensor"
   ]
  },
  {
   "cell_type": "markdown",
   "metadata": {},
   "source": [
    "Custom Python code via Dataset.from_generator()"
   ]
  },
  {
   "cell_type": "code",
   "execution_count": null,
   "metadata": {},
   "outputs": [],
   "source": [
    "# eager execution makes Dataset a normal Python iterator\n",
    "for batch in dataset:\n",
    "    train_model(batch)"
   ]
  },
  {
   "cell_type": "code",
   "execution_count": null,
   "metadata": {},
   "outputs": [],
   "source": [
    "tf.enable_eager_execution()"
   ]
  },
  {
   "cell_type": "code",
   "execution_count": null,
   "metadata": {},
   "outputs": [],
   "source": [
    "# pip install kaggle\n",
    "# kaggle dataset download -d /tmp/million-headlines -p .\n",
    "dataset = tf.contrib.data.make_csv_dataset('*.csv', BATCH_SIZE, num_epochs=NUM_EPOCHS)\n",
    "for batch in dataset:\n",
    "    train_model(batch['publish_data'], batch['headline_text'])"
   ]
  },
  {
   "cell_type": "markdown",
   "metadata": {},
   "source": [
    "include dataset-estimator-integration image"
   ]
  }
 ],
 "metadata": {
  "kernelspec": {
   "display_name": "Python 3",
   "language": "python",
   "name": "python3"
  },
  "language_info": {
   "codemirror_mode": {
    "name": "ipython",
    "version": 3
   },
   "file_extension": ".py",
   "mimetype": "text/x-python",
   "name": "python",
   "nbconvert_exporter": "python",
   "pygments_lexer": "ipython3",
   "version": "3.6.4"
  }
 },
 "nbformat": 4,
 "nbformat_minor": 2
}
