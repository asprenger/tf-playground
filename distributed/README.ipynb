{
 "cells": [
  {
   "cell_type": "markdown",
   "metadata": {},
   "source": [
    "\n",
    "# Standard example\n",
    "\n",
    "[distributed-mnist.py](distributed-mnist.py) implements **between-graph replication** and **asynchronous training**. This script is equivalent to the approach described in [Distributed TensorFlow](https://www.tensorflow.org/deploy/distributed).\n",
    "\n",
    "To run the example on a local machine execute the following commands:\n",
    "\n",
    "    python mnist_basic_distributed.py --ps_hosts=127.0.0.1:2222 --worker_hosts=127.0.0.1:2223,127.0.0.1:2224 --job_name=ps --task_index=0\n",
    "    python mnist_basic_distributed.py --ps_hosts=127.0.0.1:2222 --worker_hosts=127.0.0.1:2223,127.0.0.1:2224 --job_name=worker --task_index=0\n",
    "    python mnist_basic_distributed.py --ps_hosts=127.0.0.1:2222 --worker_hosts=127.0.0.1:2223,127.0.0.1:2224 --job_name=worker --task_index=1\n",
    "    \n",
    "Notes:\n",
    " * `--log_dir` must specify a shared directory accessible to all hosts making up the cluster.\n",
    " * `--log_dir` contains checkpoints and must be deleted before running the example.\n",
    " * The parameter server currently blocks forever in `server.join()`\n",
    " * Both workers print a message that they start a master session\n",
    " \n",
    "The processed have the following names:\n",
    "\n",
    "    /job:ps/replica:0/task:0\n",
    "    /job:worker/replica:0/task:0\n",
    "    /job:worker/replica:0/task:1"
   ]
  }
 ],
 "metadata": {
  "kernelspec": {
   "display_name": "Python 3",
   "language": "python",
   "name": "python3"
  },
  "language_info": {
   "codemirror_mode": {
    "name": "ipython",
    "version": 3
   },
   "file_extension": ".py",
   "mimetype": "text/x-python",
   "name": "python",
   "nbconvert_exporter": "python",
   "pygments_lexer": "ipython3",
   "version": "3.6.4"
  }
 },
 "nbformat": 4,
 "nbformat_minor": 2
}
